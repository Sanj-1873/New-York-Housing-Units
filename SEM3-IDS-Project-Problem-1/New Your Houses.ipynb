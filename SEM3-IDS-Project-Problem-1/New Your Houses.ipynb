{
 "cells": [
  {
   "cell_type": "code",
   "execution_count": 1,
   "metadata": {},
   "outputs": [],
   "source": [
    "import pandas as pd\n",
    "import numpy as np\n",
    "import matplotlib.pyplot as plt\n",
    "%matplotlib inline"
   ]
  },
  {
   "cell_type": "code",
   "execution_count": 2,
   "metadata": {},
   "outputs": [
    {
     "name": "stdout",
     "output_type": "stream",
     "text": [
      "   Project ID                                Project Name  \\\n",
      "0       51867                                 THE ROBESON   \n",
      "1       52986  ESSIE  JEFFRIES APARTMENTS HDFC.HUDMF.FY18   \n",
      "2       52986  ESSIE  JEFFRIES APARTMENTS HDFC.HUDMF.FY18   \n",
      "3       52986  ESSIE  JEFFRIES APARTMENTS HDFC.HUDMF.FY18   \n",
      "4       54377                                CONFIDENTIAL   \n",
      "\n",
      "    Project Start Date Project Completion Date  Building ID Number  \\\n",
      "0  2018-06-29T00:00:00                     NaN     927152.0    407   \n",
      "1  2018-06-29T00:00:00                     NaN       5738.0   1990   \n",
      "2  2018-06-29T00:00:00                     NaN      42862.0    531   \n",
      "3  2018-06-29T00:00:00                     NaN      42869.0    547   \n",
      "4  2018-06-29T00:00:00                     NaN          NaN   ----   \n",
      "\n",
      "             Street    Borough  Postcode           BBL  ...  2-BR Units  \\\n",
      "0      LENOX AVENUE  Manhattan   10037.0  1.019150e+09  ...          32   \n",
      "1  AMSTERDAM AVENUE  Manhattan   10032.0  1.021170e+09  ...          15   \n",
      "2   WEST 160 STREET  Manhattan   10032.0  1.021190e+09  ...          20   \n",
      "3   WEST 160 STREET  Manhattan   10032.0  1.021190e+09  ...          20   \n",
      "4              ----   Brooklyn       NaN           NaN  ...          14   \n",
      "\n",
      "  3-BR Units  4-BR Units  5-BR Units 6-BR+ Units  Unknown-BR Units  \\\n",
      "0          6           0           0           0                 0   \n",
      "1          5           5           0           0                 0   \n",
      "2          0           0           0           0                 0   \n",
      "3          0           0           0           0                 0   \n",
      "4         12           0           0           0                 0   \n",
      "\n",
      "   Counted Rental Units  Counted Homeownership Units  All Counted Units  \\\n",
      "0                    79                            0                 79   \n",
      "1                    25                            0                 25   \n",
      "2                    20                            0                 20   \n",
      "3                    20                            0                 20   \n",
      "4                    50                            0                 50   \n",
      "\n",
      "  Total Units  \n",
      "0          79  \n",
      "1          25  \n",
      "2          20  \n",
      "3          20  \n",
      "4          50  \n",
      "\n",
      "[5 rows x 41 columns]\n"
     ]
    }
   ],
   "source": [
    "## Reading the CSV File \n",
    "df = pd.read_csv('housing-new-york-units-by-building.csv')\n",
    "print(df.head(5))\n"
   ]
  },
  {
   "cell_type": "code",
   "execution_count": 3,
   "metadata": {},
   "outputs": [
    {
     "name": "stdout",
     "output_type": "stream",
     "text": [
      "Index(['Project ID', 'Project Name', 'Project Start Date',\n",
      "       'Project Completion Date', 'Building ID', 'Number', 'Street', 'Borough',\n",
      "       'Postcode', 'BBL', 'BIN', 'Community Board', 'Council District',\n",
      "       'Census Tract', 'NTA - Neighborhood Tabulation Area', 'Latitude',\n",
      "       'Longitude', 'Latitude (Internal)', 'Longitude (Internal)',\n",
      "       'Building Completion Date', 'Reporting Construction Type',\n",
      "       'Extended Affordability Only', 'Prevailing Wage Status',\n",
      "       'Extremely Low Income Units', 'Very Low Income Units',\n",
      "       'Low Income Units', 'Moderate Income Units', 'Middle Income Units',\n",
      "       'Other Income Units', 'Studio Units', '1-BR Units', '2-BR Units',\n",
      "       '3-BR Units', '4-BR Units', '5-BR Units', '6-BR+ Units',\n",
      "       'Unknown-BR Units', 'Counted Rental Units',\n",
      "       'Counted Homeownership Units', 'All Counted Units', 'Total Units'],\n",
      "      dtype='object')\n"
     ]
    }
   ],
   "source": [
    "print(df.columns)\n"
   ]
  },
  {
   "cell_type": "markdown",
   "metadata": {},
   "source": [
    "## Find the cheapest location among very low income units \n",
    "df_vli = df[['Very Low Income Units','Extremely Low Income Units', 'Low Income Units', 'Moderate Income Units', 'Middle Income Units',\n",
    "       'Other Income Units','Borough']]\n",
    " \n",
    "\n",
    "\n",
    "\n",
    "\n"
   ]
  },
  {
   "cell_type": "code",
   "execution_count": 4,
   "metadata": {},
   "outputs": [
    {
     "data": {
      "text/plain": [
       "array(['Manhattan', 'Brooklyn', 'Queens', 'Bronx', 'Staten Island'],\n",
       "      dtype=object)"
      ]
     },
     "execution_count": 4,
     "metadata": {},
     "output_type": "execute_result"
    }
   ],
   "source": [
    "df.Borough.unique()"
   ]
  },
  {
   "cell_type": "code",
   "execution_count": 5,
   "metadata": {},
   "outputs": [
    {
     "data": {
      "text/plain": [
       "(array([195.,   0.,   0.,   0.,   0.,   0.,   0.,   0.,   0.,   0.,   0.,\n",
       "          1.,   0.,   0.,   0.,   0.,   0.,   0.,   0.,   0.,   0.,   0.,\n",
       "          1.,   0.,   0.,   0.,   0.,   0.,   0.,   0.,   0.,   0.,   0.,\n",
       "          0.,   0.,   0.,   0.,   0.,   0.,   0.,   0.,   0.,   0.,   0.,\n",
       "          0.,   0.,   0.,   1.,   0.,   0.,   0.,   0.,   0.,   0.,   0.,\n",
       "          0.,   0.,   0.,   0.,   0.,   0.,   0.,   0.,   0.,   0.,   0.,\n",
       "          0.,   0.,   0.,   0.,   0.,   0.,   0.,   0.,   0.,   0.,   0.,\n",
       "          0.,   0.,   0.,   0.,   0.,   0.,   0.,   0.,   0.,   0.,   0.,\n",
       "          0.,   0.,   0.,   0.,   0.,   0.,   0.,   0.,   0.,   0.,   0.,\n",
       "          1.]),\n",
       " array([  0.  ,   1.39,   2.78,   4.17,   5.56,   6.95,   8.34,   9.73,\n",
       "         11.12,  12.51,  13.9 ,  15.29,  16.68,  18.07,  19.46,  20.85,\n",
       "         22.24,  23.63,  25.02,  26.41,  27.8 ,  29.19,  30.58,  31.97,\n",
       "         33.36,  34.75,  36.14,  37.53,  38.92,  40.31,  41.7 ,  43.09,\n",
       "         44.48,  45.87,  47.26,  48.65,  50.04,  51.43,  52.82,  54.21,\n",
       "         55.6 ,  56.99,  58.38,  59.77,  61.16,  62.55,  63.94,  65.33,\n",
       "         66.72,  68.11,  69.5 ,  70.89,  72.28,  73.67,  75.06,  76.45,\n",
       "         77.84,  79.23,  80.62,  82.01,  83.4 ,  84.79,  86.18,  87.57,\n",
       "         88.96,  90.35,  91.74,  93.13,  94.52,  95.91,  97.3 ,  98.69,\n",
       "        100.08, 101.47, 102.86, 104.25, 105.64, 107.03, 108.42, 109.81,\n",
       "        111.2 , 112.59, 113.98, 115.37, 116.76, 118.15, 119.54, 120.93,\n",
       "        122.32, 123.71, 125.1 , 126.49, 127.88, 129.27, 130.66, 132.05,\n",
       "        133.44, 134.83, 136.22, 137.61, 139.  ]),\n",
       " <a list of 100 Patch objects>)"
      ]
     },
     "execution_count": 5,
     "metadata": {},
     "output_type": "execute_result"
    },
    {
     "data": {
      "image/png": "[encoded data removed]",
      "text/plain": [
       "<Figure size 432x288 with 1 Axes>"
      ]
     },
     "metadata": {
      "needs_background": "light"
     },
     "output_type": "display_data"
    }
   ],
   "source": [
    "x_M = df.loc[df.Borough == 'Manhattan', 'Very Low Income Units']\n",
    "x_Bk = df.loc[df.Borough == 'Brooklyn', 'Very Low Income Units']\n",
    "x_Q = df.loc[df.Borough == 'Queens', 'Very Low Income Units']\n",
    "x_Bx = df.loc[df.Borough == 'Bronx', 'Very Low Income Units']\n",
    "x_S = df.loc[df.Borough == 'Staten Island', 'Very Low Income Units']\n",
    "\n",
    "kwargs = dict(alpha=0.5, bins=100)\n",
    "plt.hist(x_M, **kwargs, color='g', label='Manhattan')\n",
    "plt.hist(x_Bk, **kwargs, color='r', label='Brooklyn')\n",
    "plt.hist(x_Q, **kwargs, color='y', label='Queens')\n",
    "plt.hist(x_Bx, **kwargs, color='b', label='Bronx')\n",
    "plt.hist(x_S, **kwargs, color='m', label='Staten Island')\n",
    "\n"
   ]
  },
  {
   "cell_type": "code",
   "execution_count": 6,
   "metadata": {},
   "outputs": [
    {
     "data": {
      "text/plain": [
       "(array([188.,   0.,   0.,   0.,   0.,   2.,   1.,   0.,   0.,   0.,   0.,\n",
       "          0.,   0.,   0.,   0.,   0.,   0.,   0.,   0.,   1.,   3.,   0.,\n",
       "          0.,   0.,   0.,   0.,   0.,   0.,   0.,   0.,   0.,   1.,   1.,\n",
       "          0.,   0.,   0.,   0.,   0.,   0.,   0.,   1.,   0.,   0.,   0.,\n",
       "          0.,   0.,   0.,   0.,   0.,   0.,   0.,   0.,   0.,   0.,   0.,\n",
       "          0.,   0.,   0.,   0.,   0.,   0.,   0.,   0.,   0.,   0.,   0.,\n",
       "          0.,   0.,   0.,   0.,   0.,   0.,   0.,   0.,   0.,   0.,   0.,\n",
       "          0.,   0.,   0.,   0.,   0.,   0.,   0.,   0.,   0.,   0.,   0.,\n",
       "          0.,   0.,   0.,   0.,   0.,   0.,   0.,   0.,   0.,   0.,   0.,\n",
       "          1.]),\n",
       " array([  0.  ,   1.88,   3.76,   5.64,   7.52,   9.4 ,  11.28,  13.16,\n",
       "         15.04,  16.92,  18.8 ,  20.68,  22.56,  24.44,  26.32,  28.2 ,\n",
       "         30.08,  31.96,  33.84,  35.72,  37.6 ,  39.48,  41.36,  43.24,\n",
       "         45.12,  47.  ,  48.88,  50.76,  52.64,  54.52,  56.4 ,  58.28,\n",
       "         60.16,  62.04,  63.92,  65.8 ,  67.68,  69.56,  71.44,  73.32,\n",
       "         75.2 ,  77.08,  78.96,  80.84,  82.72,  84.6 ,  86.48,  88.36,\n",
       "         90.24,  92.12,  94.  ,  95.88,  97.76,  99.64, 101.52, 103.4 ,\n",
       "        105.28, 107.16, 109.04, 110.92, 112.8 , 114.68, 116.56, 118.44,\n",
       "        120.32, 122.2 , 124.08, 125.96, 127.84, 129.72, 131.6 , 133.48,\n",
       "        135.36, 137.24, 139.12, 141.  , 142.88, 144.76, 146.64, 148.52,\n",
       "        150.4 , 152.28, 154.16, 156.04, 157.92, 159.8 , 161.68, 163.56,\n",
       "        165.44, 167.32, 169.2 , 171.08, 172.96, 174.84, 176.72, 178.6 ,\n",
       "        180.48, 182.36, 184.24, 186.12, 188.  ]),\n",
       " <a list of 100 Patch objects>)"
      ]
     },
     "execution_count": 6,
     "metadata": {},
     "output_type": "execute_result"
    },
    {
     "data": {
      "image/png": "[encoded data removed]",
      "text/plain": [
       "<Figure size 432x288 with 1 Axes>"
      ]
     },
     "metadata": {
      "needs_background": "light"
     },
     "output_type": "display_data"
    }
   ],
   "source": [
    "#x_M = df.loc[df.Borough == 'Manhattan', '1-BR Units']\n",
    "#x_Bk = df.loc[df.Borough == 'Brooklyn', '1-BR Units']\n",
    "#x_Q = df.loc[df.Borough == 'Queens', '1-BR Units']\n",
    "x_Bx = df.loc[df.Borough == 'Bronx', '1-BR Units']\n",
    "x_S = df.loc[df.Borough == 'Staten Island', '1-BR Units']\n",
    "\n",
    "kwargs = dict(alpha=0.5, bins=100)\n",
    "#plt.hist(x_M, **kwargs, color='g', label='Manhattan')\n",
    "#plt.hist(x_Bk, **kwargs, color='r', label='Brooklyn')\n",
    "#plt.hist(x_Q, **kwargs, color='y', label='Queens')\n",
    "plt.hist(x_Bx, **kwargs, color='b', label='Bronx')\n",
    "plt.hist(x_S, **kwargs, color='m', label='Staten Island')\n"
   ]
  },
  {
   "cell_type": "code",
   "execution_count": 17,
   "metadata": {},
   "outputs": [
    {
     "data": {
      "text/plain": [
       "<matplotlib.axes._subplots.AxesSubplot at 0x7fe423a47048>"
      ]
     },
     "execution_count": 17,
     "metadata": {},
     "output_type": "execute_result"
    },
    {
     "data": {
      "image/png": "[encoded data removed]",
      "text/plain": [
       "<Figure size 432x288 with 1 Axes>"
      ]
     },
     "metadata": {
      "needs_background": "light"
     },
     "output_type": "display_data"
    }
   ],
   "source": [
    "## Plot of num of 1-BR Units \n",
    "df.groupby('Borough')['1-BR Units'].nunique().plot(kind='bar')\n"
   ]
  },
  {
   "cell_type": "code",
   "execution_count": 10,
   "metadata": {},
   "outputs": [
    {
     "data": {
      "text/plain": [
       "<matplotlib.axes._subplots.AxesSubplot at 0x7fe423c63588>"
      ]
     },
     "execution_count": 10,
     "metadata": {},
     "output_type": "execute_result"
    },
    {
     "data": {
      "image/png": "[encoded data removed]",
      "text/plain": [
       "<Figure size 432x288 with 1 Axes>"
      ]
     },
     "metadata": {
      "needs_background": "light"
     },
     "output_type": "display_data"
    }
   ],
   "source": [
    "## Plot of num of 2-BR Units \n",
    "df.groupby('Borough')['2-BR Units'].nunique().plot(kind='bar')"
   ]
  },
  {
   "cell_type": "code",
   "execution_count": 11,
   "metadata": {},
   "outputs": [
    {
     "data": {
      "text/plain": [
       "<matplotlib.axes._subplots.AxesSubplot at 0x7fe423bba8d0>"
      ]
     },
     "execution_count": 11,
     "metadata": {},
     "output_type": "execute_result"
    },
    {
     "data": {
      "image/png": "[encoded data removed]",
      "text/plain": [
       "<Figure size 432x288 with 1 Axes>"
      ]
     },
     "metadata": {
      "needs_background": "light"
     },
     "output_type": "display_data"
    }
   ],
   "source": [
    "## Plot of num of 3-BR Units \n",
    "df.groupby('Borough')['3-BR Units'].nunique().plot(kind='bar')"
   ]
  },
  {
   "cell_type": "code",
   "execution_count": 12,
   "metadata": {},
   "outputs": [
    {
     "data": {
      "text/plain": [
       "<matplotlib.axes._subplots.AxesSubplot at 0x7fe423c10320>"
      ]
     },
     "execution_count": 12,
     "metadata": {},
     "output_type": "execute_result"
    },
    {
     "data": {
      "image/png": "[encoded data removed]",
      "text/plain": [
       "<Figure size 432x288 with 1 Axes>"
      ]
     },
     "metadata": {
      "needs_background": "light"
     },
     "output_type": "display_data"
    }
   ],
   "source": [
    "## Plot of num of 4-BR Units \n",
    "df.groupby('Borough')['4-BR Units'].nunique().plot(kind='bar')"
   ]
  },
  {
   "cell_type": "code",
   "execution_count": 13,
   "metadata": {},
   "outputs": [
    {
     "data": {
      "text/plain": [
       "<matplotlib.axes._subplots.AxesSubplot at 0x7fe423b71668>"
      ]
     },
     "execution_count": 13,
     "metadata": {},
     "output_type": "execute_result"
    },
    {
     "data": {
      "image/png": "[encoded data removed]",
      "text/plain": [
       "<Figure size 432x288 with 1 Axes>"
      ]
     },
     "metadata": {
      "needs_background": "light"
     },
     "output_type": "display_data"
    }
   ],
   "source": [
    "## Plot of num of 5-BR Units \n",
    "df.groupby('Borough')['5-BR Units'].nunique().plot(kind='bar')"
   ]
  },
  {
   "cell_type": "code",
   "execution_count": 16,
   "metadata": {},
   "outputs": [
    {
     "data": {
      "text/plain": [
       "<matplotlib.axes._subplots.AxesSubplot at 0x7fe423ad8518>"
      ]
     },
     "execution_count": 16,
     "metadata": {},
     "output_type": "execute_result"
    },
    {
     "data": {
      "image/png": "[encoded data removed]",
      "text/plain": [
       "<Figure size 432x288 with 1 Axes>"
      ]
     },
     "metadata": {
      "needs_background": "light"
     },
     "output_type": "display_data"
    }
   ],
   "source": [
    "## Plot of num of 6-BR+ Units \n",
    "df.groupby('Borough')['6-BR+ Units'].nunique().plot(kind='bar')"
   ]
  },
  {
   "cell_type": "code",
   "execution_count": null,
   "metadata": {},
   "outputs": [],
   "source": [
    "df.groupby('Bronx')['6-BR+ Units'].nunique().plot(kind='bar')"
   ]
  }
 ],
 "metadata": {
  "kernelspec": {
   "display_name": "Python 3",
   "language": "python",
   "name": "python3"
  },
  "language_info": {
   "codemirror_mode": {
    "name": "ipython",
    "version": 3
   },
   "file_extension": ".py",
   "mimetype": "text/x-python",
   "name": "python",
   "nbconvert_exporter": "python",
   "pygments_lexer": "ipython3",
   "version": "3.7.3"
  }
 },
 "nbformat": 4,
 "nbformat_minor": 2
}
