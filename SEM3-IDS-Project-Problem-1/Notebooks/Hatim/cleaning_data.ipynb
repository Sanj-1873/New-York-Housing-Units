{
 "cells": [
  {
   "cell_type": "code",
   "execution_count": 1,
   "metadata": {},
   "outputs": [
    {
     "name": "stdout",
     "output_type": "stream",
     "text": [
      "Loaded all modules\n"
     ]
    }
   ],
   "source": [
    "#Loading Modules\n",
    "%matplotlib inline\n",
    "import matplotlib.pyplot as plt\n",
    "import pandas as pd\n",
    "import numpy as np\n",
    "import cartopy.crs as ccrs\n",
    "import math\n",
    "PATH=\"D:\\\\College Things\\\\Year 2\\\\IDS\\\\Project\\\\\"\n",
    "print(\"Loaded all modules\")"
   ]
  },
  {
   "cell_type": "code",
   "execution_count": 2,
   "metadata": {},
   "outputs": [
    {
     "name": "stdout",
     "output_type": "stream",
     "text": [
      "Dataset loaded and formatted\n"
     ]
    }
   ],
   "source": [
    "#Loading Datasets\n",
    "orig_dataset=pd.read_csv(PATH+\"housing-new-york-units-by-building.csv\")\n",
    "orig_dataset.columns=orig_dataset.columns.str.strip().str.lower().str.replace(' ', '_').str.replace('(', '').str.replace(')', '')\n",
    "\n",
    "lat_long=pd.read_csv(PATH+\"lat-and-long.csv\")\n",
    "lat_long.columns=lat_long.columns.str.strip().str.lower().str.replace(' ','_').str.replace('(','').str.replace(')','')\n",
    "print(\"Dataset loaded and formatted\")"
   ]
  },
  {
   "cell_type": "code",
   "execution_count": 3,
   "metadata": {},
   "outputs": [],
   "source": [
    "#function definitions\n",
    "def is_complete(row):\n",
    "    for i in row:\n",
    "        if str(i)==\"nan\":\n",
    "            return False\n",
    "    return True\n"
   ]
  },
  {
   "cell_type": "code",
   "execution_count": 4,
   "metadata": {},
   "outputs": [],
   "source": [
    "#Seperating complete and incomplete errors\n",
    "orig_dataset=orig_dataset[orig_dataset.project_name!=\"CONFIDENTIAL\"] #Removing CONFIDENTIAL entries\n",
    "\n",
    "complete_entries=list()\n",
    "incomplete_entries=list()\n",
    "\n",
    "for i in range(len(orig_dataset)):\n",
    "    if is_complete(orig_dataset.iloc[i]):\n",
    "        complete_entries=[i]+complete_entries\n",
    "    else:\n",
    "        incomplete_entries=[i]+incomplete_entries\n",
    "        \n",
    "complete_entries = orig_dataset.take(complete_entries)\n",
    "incomplete_entries = orig_dataset.take(incomplete_entries)"
   ]
  },
  {
   "cell_type": "code",
   "execution_count": 7,
   "metadata": {},
   "outputs": [
    {
     "name": "stdout",
     "output_type": "stream",
     "text": [
      "project_id                               0\n",
      "project_name                             0\n",
      "project_start_date                       0\n",
      "project_completion_date               1267\n",
      "building_id                              0\n",
      "number                                   0\n",
      "street                                   0\n",
      "borough                                  0\n",
      "postcode                                90\n",
      "bbl                                     39\n",
      "bin                                    296\n",
      "community_board                          0\n",
      "council_district                         0\n",
      "census_tract                            90\n",
      "nta_-_neighborhood_tabulation_area      90\n",
      "latitude                                90\n",
      "longitude                               90\n",
      "latitude_internal                       63\n",
      "longitude_internal                      63\n",
      "building_completion_date              1044\n",
      "reporting_construction_type              0\n",
      "extended_affordability_only              0\n",
      "prevailing_wage_status                   0\n",
      "extremely_low_income_units               0\n",
      "very_low_income_units                    0\n",
      "low_income_units                         0\n",
      "moderate_income_units                    0\n",
      "middle_income_units                      0\n",
      "other_income_units                       0\n",
      "studio_units                             0\n",
      "1-br_units                               0\n",
      "2-br_units                               0\n",
      "3-br_units                               0\n",
      "4-br_units                               0\n",
      "5-br_units                               0\n",
      "6-br+_units                              0\n",
      "unknown-br_units                         0\n",
      "counted_rental_units                     0\n",
      "counted_homeownership_units              0\n",
      "all_counted_units                        0\n",
      "total_units                              0\n",
      "dtype: int64\n"
     ]
    }
   ],
   "source": [
    "#Counting incomplete entries\n",
    "print(incomplete_entries.isnull().sum())"
   ]
  },
  {
   "cell_type": "code",
   "execution_count": 21,
   "metadata": {},
   "outputs": [
    {
     "name": "stdout",
     "output_type": "stream",
     "text": [
      "90\n"
     ]
    }
   ],
   "source": [
    "c=0\n",
    "for i in range(len(incomplete_entries)):\n",
    "    if str(incomplete_entries.iloc[i]['latitude'])==\"nan\" or str(incomplete_entries.iloc[i]['longitude'])==\"nan\":\n",
    "        incomplete_entries[i]['latitude']=lat_long[lat_long]"
   ]
  },
  {
   "cell_type": "code",
   "execution_count": null,
   "metadata": {},
   "outputs": [],
   "source": [
    "#Saving cleaned Dataset\n",
    "complete_entries.to_csv(PATH+\"complete_entries.csv\")\n",
    "incomplete_entries.to_csv(PATH+\"incomplete_entries.csv\")"
   ]
  }
 ],
 "metadata": {
  "kernelspec": {
   "display_name": "Python 3",
   "language": "python",
   "name": "python3"
  },
  "language_info": {
   "codemirror_mode": {
    "name": "ipython",
    "version": 3
   },
   "file_extension": ".py",
   "mimetype": "text/x-python",
   "name": "python",
   "nbconvert_exporter": "python",
   "pygments_lexer": "ipython3",
   "version": "3.6.8"
  }
 },
 "nbformat": 4,
 "nbformat_minor": 2
}
